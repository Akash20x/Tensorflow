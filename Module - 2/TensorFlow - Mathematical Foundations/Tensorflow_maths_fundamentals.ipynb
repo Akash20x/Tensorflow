{
 "cells": [
  {
   "cell_type": "markdown",
   "metadata": {},
   "source": [
    "# <center> Tensorflow Maths Fundamentals"
   ]
  },
  {
   "cell_type": "markdown",
   "metadata": {},
   "source": [
    "## Tensorflow Basic Concepts"
   ]
  },
  {
   "cell_type": "markdown",
   "metadata": {},
   "source": [
    "TensorFlow gets its name from **tensors**, which are arrays of arbitrary dimensionality. \n",
    "\n",
    "Using TensorFlow, you can manipulate tensors with a very high number of dimensions. That said, most of the time you will work with one or more of the following low-dimensional tensors:\n",
    "\n",
    "- A scalar is a 0-d array (a 0th-order tensor). For example, \"Howdy\" or 5\n",
    "- A vector is a 1-d array (a 1st-order tensor). For example, [2, 3, 5, 7, 11] or [5]\n",
    "- A matrix is a 2-d array (a 2nd-order tensor). For example, [[3.1, 8.2, 5.9][4.3, -2.7, 6.5]]"
   ]
  },
  {
   "cell_type": "markdown",
   "metadata": {},
   "source": [
    " TensorFlow operations create, destroy, and manipulate tensors. Most of the lines of code in a typical TensorFlow program are operations.\n",
    "\n",
    "A TensorFlow **graph** (also known as a computational graph or a dataflow graph) is a graph data structure.\n",
    "\n",
    "A graph's nodes are operations (in TensorFlow, every operation is associated with a graph). Many TensorFlow programs consist of a single graph, but TensorFlow programs may optionally create multiple graphs. A graph's nodes are operations; a graph's edges are tensors. Tensors flow through the graph, manipulated at each node by an operation. The output tensor of one operation often becomes the input tensor to a subsequent operation. "
   ]
  },
  {
   "cell_type": "markdown",
   "metadata": {},
   "source": [
    "**Tensors** can be stored in the graph as **constants** or **variables**.\n",
    "- Constants hold tensors whose values can't change, while variables hold tensors whose values can change"
   ]
  },
  {
   "cell_type": "markdown",
   "metadata": {},
   "source": [
    "To define a constant, use the **tf.constant** operator and pass in its value. For example:"
   ]
  },
  {
   "cell_type": "code",
   "execution_count": 17,
   "metadata": {},
   "outputs": [],
   "source": [
    "import tensorflow as tf\n",
    "x = tf.constant(5)"
   ]
  },
  {
   "cell_type": "markdown",
   "metadata": {},
   "source": [
    "You can create a variable like this:"
   ]
  },
  {
   "cell_type": "code",
   "execution_count": 18,
   "metadata": {},
   "outputs": [],
   "source": [
    "y = tf.Variable([5])"
   ]
  },
  {
   "cell_type": "markdown",
   "metadata": {},
   "source": [
    "You can create the variable first and then subsequently assign a value like this:\n"
   ]
  },
  {
   "cell_type": "code",
   "execution_count": 19,
   "metadata": {},
   "outputs": [],
   "source": [
    "y = tf.Variable([0])\n",
    "y = y.assign([5])"
   ]
  },
  {
   "cell_type": "markdown",
   "metadata": {},
   "source": [
    "## Basic Mathematical Functions in Tensorflow :"
   ]
  },
  {
   "cell_type": "markdown",
   "metadata": {},
   "source": [
    "## Arithmetic Operators"
   ]
  },
  {
   "cell_type": "code",
   "execution_count": 20,
   "metadata": {},
   "outputs": [
    {
     "data": {
      "text/plain": [
       "<tf.Tensor: shape=(1,), dtype=float64, numpy=array([1.])>"
      ]
     },
     "execution_count": 20,
     "metadata": {},
     "output_type": "execute_result"
    }
   ],
   "source": [
    "# Arithmetic operators: + - * /% \n",
    "tf.add(x, y, name = None) # adder (support Broadcasting)\n",
    "tf.subtract(x, y, name = None) # subtraction\n",
    "tf.multiply(x, y, name = None) # multiplication\n",
    "tf.divide(x, y, name = None) # floating point division, and the floating point (to python3 division)\n"
   ]
  },
  {
   "cell_type": "code",
   "execution_count": 24,
   "metadata": {},
   "outputs": [
    {
     "data": {
      "text/plain": [
       "<tf.Tensor: shape=(), dtype=int32, numpy=25>"
      ]
     },
     "execution_count": 24,
     "metadata": {},
     "output_type": "execute_result"
    }
   ],
   "source": [
    "# Refers to the number of operator power: ^ ^ 2 ^ 0.5 e ^ ln \n",
    "tf.pow (x, y, name = None) # a power of\n",
    "tf.square (x, name = None) # square\n",
    "tf.sqrt (x, name = None) # square root, must pass a plurality of floating or\n",
    "tf.exp (x, name = None) # e calculation of power\n",
    "tf.log (x, name = None) # e raised, must pass a plurality of floating or\n"
   ]
  },
  {
   "cell_type": "code",
   "execution_count": 30,
   "metadata": {},
   "outputs": [
    {
     "data": {
      "text/plain": [
       "<tf.Tensor: shape=(1,), dtype=int32, numpy=array([5])>"
      ]
     },
     "execution_count": 30,
     "metadata": {},
     "output_type": "execute_result"
    }
   ],
   "source": [
    "# Take sign, negative, the inverse of the absolute value, approximately, the larger of two numbers / small\n",
    "tf.negative (x, name = None) # negate (y = -x).\n",
    "tf.sign (x, name = None) # Returns the symbol x\n",
    "tf.reciprocal (x, name = None) # taking the inverse\n",
    "tf.abs (x, name = None) # absolute value\n",
    "tf.round (x, name = None) # rounding\n",
    "tf.ceil (x, name = None) # rounding up\n",
    "tf.floor (x, name = None) # rounded down\n",
    "tf.rint (x, name = None) # rounded to the nearest integer \n",
    "tf.maximum (x, y, name = None) # returns the maximum of two tensor (x> y x:? y)\n",
    "tf.minimum (x, y, name = None) # returns the minimum value (x <y x?: y) of two tensor\n"
   ]
  },
  {
   "cell_type": "code",
   "execution_count": null,
   "metadata": {},
   "outputs": [],
   "source": [
    "# Trigonometric and inverse trigonometric\n",
    "tf.cos(x, name=None)    \n",
    "tf.sin(x, name=None)    \n",
    "tf.tan(x, name=None)    \n",
    "tf.acos(x, name=None)\n",
    "tf.asin(x, name=None)\n",
    "tf.atan(x, name=None)  "
   ]
  },
  {
   "cell_type": "code",
   "execution_count": 43,
   "metadata": {},
   "outputs": [
    {
     "data": {
      "text/plain": [
       "<tf.Tensor: shape=(1,), dtype=int32, numpy=array([0])>"
      ]
     },
     "execution_count": 43,
     "metadata": {},
     "output_type": "execute_result"
    }
   ],
   "source": [
    "# Other \n",
    "tf.div (x, y, name = None) # python 2.7 division, x / y -> int or x / float (y) -> float\n",
    "tf.truediv (x, y, name = None) # python 3 division, x / y -> float\n",
    "tf.floordiv (x, y, name = None) # python 3 division, x // y -> int\n",
    "tf.realdiv(x, y, name=None)\n",
    "tf.truncatediv(x, y, name=None)\n",
    "tf.floor_div(x, y, name=None)\n",
    "tf.truncatemod(x, y, name=None)\n",
    "tf.floormod(x, y, name=None)\n",
    "tf.cross(x, y, name=None)\n",
    "tf.add_n(inputs, name=None)  # inputs: A list of Tensor objects, each with same shape and type\n",
    "tf.squared_difference(x, y, name=None)"
   ]
  },
  {
   "cell_type": "code",
   "execution_count": null,
   "metadata": {},
   "outputs": [],
   "source": []
  }
 ],
 "metadata": {
  "kernelspec": {
   "display_name": "Python 3",
   "language": "python",
   "name": "python3"
  },
  "language_info": {
   "codemirror_mode": {
    "name": "ipython",
    "version": 3
   },
   "file_extension": ".py",
   "mimetype": "text/x-python",
   "name": "python",
   "nbconvert_exporter": "python",
   "pygments_lexer": "ipython3",
   "version": "3.7.6"
  }
 },
 "nbformat": 4,
 "nbformat_minor": 4
}
