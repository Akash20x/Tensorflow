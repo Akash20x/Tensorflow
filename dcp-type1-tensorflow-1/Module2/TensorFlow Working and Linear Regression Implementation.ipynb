{
  "nbformat": 4,
  "nbformat_minor": 0,
  "metadata": {
    "colab": {
      "name": "Workflow of TensorFlow.ipynb",
      "provenance": []
    },
    "kernelspec": {
      "name": "python3",
      "display_name": "Python 3"
    },
    "language_info": {
      "name": "python"
    }
  },
  "cells": [
    {
      "cell_type": "markdown",
      "metadata": {
        "id": "HdRUr_Q9coRM"
      },
      "source": [
        "![DevIncept](https://external-content.duckduckgo.com/iu/?u=https%3A%2F%2Ftse4.mm.bing.net%2Fth%3Fid%3DOIP.Aa1Ojw7Azjcpr51sEtQSJgAAAA%26pid%3DApi&f=1)\n",
        "1. **Working of TensorFlow - *Yugal Agarwal***\n",
        "2. **Linear Regression - *Vaibhav Gupta***"
      ]
    },
    {
      "cell_type": "markdown",
      "metadata": {
        "id": "Cowqt7Nqarko"
      },
      "source": [
        "# Working of TensorFlow"
      ]
    },
    {
      "cell_type": "code",
      "metadata": {
        "id": "2k-zi2eC8lCA"
      },
      "source": [
        "# Starting with importing the tenserlfow\n",
        "\n",
        "import tensorflow as tf"
      ],
      "execution_count": null,
      "outputs": []
    },
    {
      "cell_type": "code",
      "metadata": {
        "colab": {
          "base_uri": "https://localhost:8080/"
        },
        "id": "c_RcPPMI-smX",
        "outputId": "2726193f-5c9c-48f4-c160-8bfca5a9fa19"
      },
      "source": [
        "# Initialzation of tensors\n",
        "\n",
        "x = tf.constant(4) # scalar\n",
        "print(x) # this will print tensor which is scalar which have no shape and is of data type int"
      ],
      "execution_count": null,
      "outputs": [
        {
          "output_type": "stream",
          "text": [
            "tf.Tensor(4, shape=(), dtype=int32)\n"
          ],
          "name": "stdout"
        }
      ]
    },
    {
      "cell_type": "code",
      "metadata": {
        "colab": {
          "base_uri": "https://localhost:8080/"
        },
        "id": "fc55nMvv_UV3",
        "outputId": "e9af98a9-3f0d-4947-f630-5f8d16b19948"
      },
      "source": [
        "# Now for example lets try it with decimal value\n",
        "x = tf.constant(7.0)\n",
        "print(x) # This is also a tensor which is scalar with no shape but its data type is float"
      ],
      "execution_count": null,
      "outputs": [
        {
          "output_type": "stream",
          "text": [
            "tf.Tensor(7.0, shape=(), dtype=float32)\n"
          ],
          "name": "stdout"
        }
      ]
    },
    {
      "cell_type": "code",
      "metadata": {
        "colab": {
          "base_uri": "https://localhost:8080/"
        },
        "id": "lHsl5MAW_eju",
        "outputId": "20c24b67-2c73-411e-e819-40815149897f"
      },
      "source": [
        "# Now lets create tensors which have some shape\n",
        "x = tf.constant(4, shape=(1,1), dtype=tf.float32) # here shape is 1,1 which means its a matrix of 1x1 order which infact is a scalar\n",
        "print(x) # Here not only have we mentioned shape but also the data type of the tensor"
      ],
      "execution_count": null,
      "outputs": [
        {
          "output_type": "stream",
          "text": [
            "tf.Tensor([[4.]], shape=(1, 1), dtype=float32)\n"
          ],
          "name": "stdout"
        }
      ]
    },
    {
      "cell_type": "code",
      "metadata": {
        "colab": {
          "base_uri": "https://localhost:8080/"
        },
        "id": "hsFV_vJjAWor",
        "outputId": "0054198f-3d35-4c1c-dc87-1f5a9b792efe"
      },
      "source": [
        "# Lets create a matrix\n",
        "x = tf.constant([[2,3,5],[6,3,8]])\n",
        "print(x)# This would create a 2x3 matrix"
      ],
      "execution_count": null,
      "outputs": [
        {
          "output_type": "stream",
          "text": [
            "tf.Tensor(\n",
            "[[2 3 5]\n",
            " [6 3 8]], shape=(2, 3), dtype=int32)\n"
          ],
          "name": "stdout"
        }
      ]
    },
    {
      "cell_type": "code",
      "metadata": {
        "colab": {
          "base_uri": "https://localhost:8080/"
        },
        "id": "T6v98m2tBJUh",
        "outputId": "484bd111-74d3-4d8f-fce3-d3f9c0afbe33"
      },
      "source": [
        "# Some initialization methods - In these we dont have to mention every element of a matrix\n",
        "x = tf.ones([3,3]) # In brackets you have mentioned shape or order of the matrix\n",
        "print(x) # this would create a matrix whose every element is 1"
      ],
      "execution_count": null,
      "outputs": [
        {
          "output_type": "stream",
          "text": [
            "tf.Tensor(\n",
            "[[1. 1. 1.]\n",
            " [1. 1. 1.]\n",
            " [1. 1. 1.]], shape=(3, 3), dtype=float32)\n"
          ],
          "name": "stdout"
        }
      ]
    },
    {
      "cell_type": "code",
      "metadata": {
        "colab": {
          "base_uri": "https://localhost:8080/"
        },
        "id": "FtHzIFbaBt68",
        "outputId": "64f0da35-c47d-430d-b10a-5aaa5e065a58"
      },
      "source": [
        "x = tf.zeros([2,3])\n",
        "print(x)"
      ],
      "execution_count": null,
      "outputs": [
        {
          "output_type": "stream",
          "text": [
            "tf.Tensor(\n",
            "[[0. 0. 0.]\n",
            " [0. 0. 0.]], shape=(2, 3), dtype=float32)\n"
          ],
          "name": "stdout"
        }
      ]
    },
    {
      "cell_type": "code",
      "metadata": {
        "colab": {
          "base_uri": "https://localhost:8080/"
        },
        "id": "kFVAxkWHCRam",
        "outputId": "02a0347e-ccc4-4d71-eeb0-7dde35b9a181"
      },
      "source": [
        "x = tf.eye(3) # here eye stands for \"I\" as Identity matrix\n",
        "print(x)"
      ],
      "execution_count": null,
      "outputs": [
        {
          "output_type": "stream",
          "text": [
            "tf.Tensor(\n",
            "[[1. 0. 0.]\n",
            " [0. 1. 0.]\n",
            " [0. 0. 1.]], shape=(3, 3), dtype=float32)\n"
          ],
          "name": "stdout"
        }
      ]
    },
    {
      "cell_type": "code",
      "metadata": {
        "colab": {
          "base_uri": "https://localhost:8080/"
        },
        "id": "FJL85GQJCbBG",
        "outputId": "566a2a77-2914-4338-bae1-0577ba296e9c"
      },
      "source": [
        "# We could also create random matrices \n",
        "x = tf.random.normal((3,3), mean=1, stddev=2)\n",
        "print(x)"
      ],
      "execution_count": null,
      "outputs": [
        {
          "output_type": "stream",
          "text": [
            "tf.Tensor(\n",
            "[[ 0.829563   -1.218034   -0.63235235]\n",
            " [ 1.3790958  -0.21221352 -0.17297566]\n",
            " [ 2.810059   -1.881582    1.566132  ]], shape=(3, 3), dtype=float32)\n"
          ],
          "name": "stdout"
        }
      ]
    },
    {
      "cell_type": "code",
      "metadata": {
        "colab": {
          "base_uri": "https://localhost:8080/"
        },
        "id": "E-vRcEsrGn7w",
        "outputId": "e61c7501-ba71-469a-cc94-0f5f880629a1"
      },
      "source": [
        "x = tf.random.uniform((1,3), minval=0, maxval=1)\n",
        "print(x)"
      ],
      "execution_count": null,
      "outputs": [
        {
          "output_type": "stream",
          "text": [
            "tf.Tensor([[0.3180411  0.09501493 0.20974994]], shape=(1, 3), dtype=float32)\n"
          ],
          "name": "stdout"
        }
      ]
    },
    {
      "cell_type": "code",
      "metadata": {
        "colab": {
          "base_uri": "https://localhost:8080/"
        },
        "id": "nntDtsHDG13i",
        "outputId": "c493d0a7-9940-460e-b569-d3ecfbbf35a0"
      },
      "source": [
        "# We could also print range \n",
        "x = tf.range(10)\n",
        "print(x)"
      ],
      "execution_count": null,
      "outputs": [
        {
          "output_type": "stream",
          "text": [
            "tf.Tensor([0 1 2 3 4 5 6 7 8 9], shape=(10,), dtype=int32)\n"
          ],
          "name": "stdout"
        }
      ]
    },
    {
      "cell_type": "code",
      "metadata": {
        "colab": {
          "base_uri": "https://localhost:8080/"
        },
        "id": "6hYorQQ7HMaD",
        "outputId": "a21ba8ff-562f-4fcf-e1a5-20053988e7f2"
      },
      "source": [
        "x = tf.range(start= 1, limit=13, delta=3) # This will print number after every 3 jumps\n",
        "print(x)"
      ],
      "execution_count": null,
      "outputs": [
        {
          "output_type": "stream",
          "text": [
            "tf.Tensor([ 1  4  7 10], shape=(4,), dtype=int32)\n"
          ],
          "name": "stdout"
        }
      ]
    },
    {
      "cell_type": "code",
      "metadata": {
        "colab": {
          "base_uri": "https://localhost:8080/"
        },
        "id": "eU7Z2KISHm2d",
        "outputId": "31d5d413-4ab3-4905-ddf7-51dcedbcc890"
      },
      "source": [
        "# Converting a certain tensor into a particular data type\n",
        "x = tf.cast(x, dtype=tf.float64)\n",
        "# you can convert them into any bit like float(16,32,64) int(8,16,32,64)\n",
        "print(x)"
      ],
      "execution_count": null,
      "outputs": [
        {
          "output_type": "stream",
          "text": [
            "tf.Tensor([ 1.  4.  7. 10.], shape=(4,), dtype=float64)\n"
          ],
          "name": "stdout"
        }
      ]
    },
    {
      "cell_type": "code",
      "metadata": {
        "colab": {
          "base_uri": "https://localhost:8080/"
        },
        "id": "g123SBe6IBVa",
        "outputId": "e5fd50e2-4e4f-48fa-915a-951903749119"
      },
      "source": [
        "# Now lets try some mathematical operations\n",
        "\n",
        "# first lets create two vectors\n",
        "\n",
        "x = tf.constant([1,2,3])\n",
        "y = tf.constant([9,8,7])\n",
        "\n",
        "# Addition\n",
        "\n",
        "z = tf.add(x, y)\n",
        "z = x + y# we can also do this to add\n",
        "print(z)"
      ],
      "execution_count": null,
      "outputs": [
        {
          "output_type": "stream",
          "text": [
            "tf.Tensor([10 10 10], shape=(3,), dtype=int32)\n"
          ],
          "name": "stdout"
        }
      ]
    },
    {
      "cell_type": "code",
      "metadata": {
        "colab": {
          "base_uri": "https://localhost:8080/"
        },
        "id": "DUankGL0Jg_2",
        "outputId": "cbc5241c-1f8b-4206-fdee-5a2b27626f63"
      },
      "source": [
        "# Subtaction\n",
        "z = tf.subtract(x, y)\n",
        "z = x - y # both above and this one is equivalent\n",
        "print(z)"
      ],
      "execution_count": null,
      "outputs": [
        {
          "output_type": "stream",
          "text": [
            "tf.Tensor([-8 -6 -4], shape=(3,), dtype=int32)\n"
          ],
          "name": "stdout"
        }
      ]
    },
    {
      "cell_type": "code",
      "metadata": {
        "colab": {
          "base_uri": "https://localhost:8080/"
        },
        "id": "Zauu0wZDJ7Zn",
        "outputId": "639d757d-1618-4173-e936-385d4d9b6395"
      },
      "source": [
        "# Division\n",
        "z = tf.divide(x, y)\n",
        "# z = x / y\n",
        "print(z)"
      ],
      "execution_count": null,
      "outputs": [
        {
          "output_type": "stream",
          "text": [
            "tf.Tensor([0.11111111 0.25       0.42857143], shape=(3,), dtype=float64)\n"
          ],
          "name": "stdout"
        }
      ]
    },
    {
      "cell_type": "code",
      "metadata": {
        "colab": {
          "base_uri": "https://localhost:8080/"
        },
        "id": "2ZtHKltdKhPN",
        "outputId": "fe8076c0-a1de-4b68-994c-283908f75b0b"
      },
      "source": [
        "# Multiplication\n",
        "z = tf.multiply(x, y)\n",
        "z =x * y\n",
        "print(z)"
      ],
      "execution_count": null,
      "outputs": [
        {
          "output_type": "stream",
          "text": [
            "tf.Tensor([ 9 16 21], shape=(3,), dtype=int32)\n"
          ],
          "name": "stdout"
        }
      ]
    },
    {
      "cell_type": "code",
      "metadata": {
        "colab": {
          "base_uri": "https://localhost:8080/"
        },
        "id": "89ktbGejKsQ2",
        "outputId": "42018776-5e3a-4266-8251-bf1db3990141"
      },
      "source": [
        "# Finding dot product\n",
        "z = tf.tensordot(x, y, axes=1)\n",
        "print(z)"
      ],
      "execution_count": null,
      "outputs": [
        {
          "output_type": "stream",
          "text": [
            "tf.Tensor(46, shape=(), dtype=int32)\n"
          ],
          "name": "stdout"
        }
      ]
    },
    {
      "cell_type": "code",
      "metadata": {
        "colab": {
          "base_uri": "https://localhost:8080/"
        },
        "id": "YFqpNQMgLO_X",
        "outputId": "d5adb35c-4e7b-495d-d4db-078c529c4ad0"
      },
      "source": [
        "# we can also find this in other way\n",
        "z = tf.reduce_sum(x * y, axis = 0)\n",
        "print(z)"
      ],
      "execution_count": null,
      "outputs": [
        {
          "output_type": "stream",
          "text": [
            "tf.Tensor(46, shape=(), dtype=int32)\n"
          ],
          "name": "stdout"
        }
      ]
    },
    {
      "cell_type": "code",
      "metadata": {
        "colab": {
          "base_uri": "https://localhost:8080/"
        },
        "id": "AwJY2WRZLfRq",
        "outputId": "d2231604-9c42-4e5f-ed20-c5bd7abf6688"
      },
      "source": [
        "# Exponential - in simple words to the power\n",
        "z = x ** 5\n",
        "print(z) "
      ],
      "execution_count": null,
      "outputs": [
        {
          "output_type": "stream",
          "text": [
            "tf.Tensor([  1  32 243], shape=(3,), dtype=int32)\n"
          ],
          "name": "stdout"
        }
      ]
    },
    {
      "cell_type": "code",
      "metadata": {
        "colab": {
          "base_uri": "https://localhost:8080/"
        },
        "id": "fJ7rewG2MxqQ",
        "outputId": "52afd36d-c85b-4239-bafc-4afa598b0f35"
      },
      "source": [
        "# Matrix multiplication\n",
        "x = tf.random.normal((2,3))\n",
        "y = tf.random.normal((3,4))\n",
        "\n",
        "# This could be done in two ways\n",
        "z = tf.matmul(x,y)\n",
        "print(z)\n",
        "\n",
        "# Method 2\n",
        "z = x @ y\n",
        "print(z)"
      ],
      "execution_count": null,
      "outputs": [
        {
          "output_type": "stream",
          "text": [
            "tf.Tensor(\n",
            "[[-0.1382283   0.08222929 -0.30592424 -0.10362779]\n",
            " [ 0.7731304   3.0264964   0.06675583 -2.5913184 ]], shape=(2, 4), dtype=float32)\n",
            "tf.Tensor(\n",
            "[[-0.1382283   0.08222929 -0.30592424 -0.10362779]\n",
            " [ 0.7731304   3.0264964   0.06675583 -2.5913184 ]], shape=(2, 4), dtype=float32)\n"
          ],
          "name": "stdout"
        }
      ]
    },
    {
      "cell_type": "code",
      "metadata": {
        "colab": {
          "base_uri": "https://localhost:8080/"
        },
        "id": "qTbJbOpDRcXX",
        "outputId": "374d9e8d-3652-4d86-8369-6d85085e0057"
      },
      "source": [
        "# Indexing of a tensor\n",
        "x = tf.constant([0 ,3,3,5,2,1,3])\n",
        "print(x[:])"
      ],
      "execution_count": null,
      "outputs": [
        {
          "output_type": "stream",
          "text": [
            "tf.Tensor([0 3 3 5 2 1 3], shape=(7,), dtype=int32)\n"
          ],
          "name": "stdout"
        }
      ]
    },
    {
      "cell_type": "code",
      "metadata": {
        "colab": {
          "base_uri": "https://localhost:8080/"
        },
        "id": "riQN32zNR2q8",
        "outputId": "6342415b-6c95-46b8-fa74-7c8462019109"
      },
      "source": [
        "print(x[1:]) # This will print every element except the first element"
      ],
      "execution_count": null,
      "outputs": [
        {
          "output_type": "stream",
          "text": [
            "tf.Tensor([3 3 5 2 1 3], shape=(6,), dtype=int32)\n"
          ],
          "name": "stdout"
        }
      ]
    },
    {
      "cell_type": "code",
      "metadata": {
        "colab": {
          "base_uri": "https://localhost:8080/"
        },
        "id": "ZvLtxfT_SJC8",
        "outputId": "727e3025-57d3-4bce-cd1a-eaa34955f813"
      },
      "source": [
        "# This is similar to indexing as that in python\n",
        "print(x[1:4])"
      ],
      "execution_count": null,
      "outputs": [
        {
          "output_type": "stream",
          "text": [
            "tf.Tensor([3 3 5], shape=(3,), dtype=int32)\n"
          ],
          "name": "stdout"
        }
      ]
    },
    {
      "cell_type": "code",
      "metadata": {
        "colab": {
          "base_uri": "https://localhost:8080/"
        },
        "id": "gAiKaIDTSXOT",
        "outputId": "2fb529d7-d929-4cca-c514-e00269cce5d7"
      },
      "source": [
        "print(x[::2]) # This will skip every other element - means it will skip one element alternatively"
      ],
      "execution_count": null,
      "outputs": [
        {
          "output_type": "stream",
          "text": [
            "tf.Tensor([0 3 2 3], shape=(4,), dtype=int32)\n"
          ],
          "name": "stdout"
        }
      ]
    },
    {
      "cell_type": "code",
      "metadata": {
        "colab": {
          "base_uri": "https://localhost:8080/"
        },
        "id": "_p_gyuIWSiQR",
        "outputId": "cb195f91-c17e-4536-d547-67684ed7f253"
      },
      "source": [
        "print(x[::-1]) # this will print x in reverse order"
      ],
      "execution_count": null,
      "outputs": [
        {
          "output_type": "stream",
          "text": [
            "tf.Tensor([3 1 2 5 3 3 0], shape=(7,), dtype=int32)\n"
          ],
          "name": "stdout"
        }
      ]
    },
    {
      "cell_type": "code",
      "metadata": {
        "colab": {
          "base_uri": "https://localhost:8080/"
        },
        "id": "myrOC_e1SzeG",
        "outputId": "69bbbac6-320c-4700-b78e-a5705d27aa6a"
      },
      "source": [
        "# Now for example if we want print value of a particular indices\n",
        "indices = tf.constant([0,4])\n",
        "x_ind = tf.gather(x, indices)\n",
        "print(x_ind)"
      ],
      "execution_count": null,
      "outputs": [
        {
          "output_type": "stream",
          "text": [
            "tf.Tensor([0 2], shape=(2,), dtype=int32)\n"
          ],
          "name": "stdout"
        }
      ]
    },
    {
      "cell_type": "code",
      "metadata": {
        "colab": {
          "base_uri": "https://localhost:8080/"
        },
        "id": "6AU2PkUrTTb4",
        "outputId": "81f3c621-ea44-4240-9853-135dbd1e0527"
      },
      "source": [
        "# Now lets do this for matrix \n",
        "\n",
        "x = tf.constant([[1,2],\n",
        "                 [3,4],\n",
        "                 [5,6]])\n",
        "print(x[0])# this will print first row"
      ],
      "execution_count": null,
      "outputs": [
        {
          "output_type": "stream",
          "text": [
            "tf.Tensor([1 2], shape=(2,), dtype=int32)\n"
          ],
          "name": "stdout"
        }
      ]
    },
    {
      "cell_type": "code",
      "metadata": {
        "colab": {
          "base_uri": "https://localhost:8080/"
        },
        "id": "2_kOnwCjUKqn",
        "outputId": "8a47d241-71bf-4b57-aec5-9f16f29dcd2f"
      },
      "source": [
        "print(x[0:2])# this will print first 2 rows"
      ],
      "execution_count": null,
      "outputs": [
        {
          "output_type": "stream",
          "text": [
            "tf.Tensor(\n",
            "[[1 2]\n",
            " [3 4]], shape=(2, 2), dtype=int32)\n"
          ],
          "name": "stdout"
        }
      ]
    },
    {
      "cell_type": "code",
      "metadata": {
        "colab": {
          "base_uri": "https://localhost:8080/"
        },
        "id": "rVksYMFsVg3J",
        "outputId": "b2ac8874-94b9-48cf-f738-8291222edc6b"
      },
      "source": [
        "# Now lets understand little bit about reshaping\n",
        "x= tf.range(9)\n",
        "print(x)"
      ],
      "execution_count": null,
      "outputs": [
        {
          "output_type": "stream",
          "text": [
            "tf.Tensor([0 1 2 3 4 5 6 7 8], shape=(9,), dtype=int32)\n"
          ],
          "name": "stdout"
        }
      ]
    },
    {
      "cell_type": "code",
      "metadata": {
        "colab": {
          "base_uri": "https://localhost:8080/"
        },
        "id": "cf_AQTmkV9QZ",
        "outputId": "6e476ca2-5101-4277-a217-ad0a21f29c75"
      },
      "source": [
        "# lets reshape it into 3x3 matrix\n",
        "x = tf.reshape(x, (3,3))\n",
        "print(x)"
      ],
      "execution_count": null,
      "outputs": [
        {
          "output_type": "stream",
          "text": [
            "tf.Tensor(\n",
            "[[0 1 2]\n",
            " [3 4 5]\n",
            " [6 7 8]], shape=(3, 3), dtype=int32)\n"
          ],
          "name": "stdout"
        }
      ]
    },
    {
      "cell_type": "code",
      "metadata": {
        "colab": {
          "base_uri": "https://localhost:8080/"
        },
        "id": "rkgrhPCVWBCi",
        "outputId": "cd84c848-a2b3-44d4-87cc-66f8530c29c1"
      },
      "source": [
        "# Lets convert it into transpose\n",
        "\n",
        "x = tf.transpose(x)\n",
        "print(x)"
      ],
      "execution_count": null,
      "outputs": [
        {
          "output_type": "stream",
          "text": [
            "tf.Tensor(\n",
            "[[0 3 6]\n",
            " [1 4 7]\n",
            " [2 5 8]], shape=(3, 3), dtype=int32)\n"
          ],
          "name": "stdout"
        }
      ]
    },
    {
      "cell_type": "code",
      "metadata": {
        "id": "x_5rHIffWe4P"
      },
      "source": [
        "# As you can see the first row becomes first column and second row becomes second column and so on."
      ],
      "execution_count": null,
      "outputs": []
    },
    {
      "cell_type": "markdown",
      "metadata": {
        "id": "9xoF-Gc8aoHN"
      },
      "source": [
        "# Linear Regression"
      ]
    },
    {
      "cell_type": "markdown",
      "metadata": {
        "id": "dYrzmcEDbZv3"
      },
      "source": [
        "## Imports"
      ]
    },
    {
      "cell_type": "code",
      "metadata": {
        "id": "xBahtJ4oaqKm"
      },
      "source": [
        "!pip install -q sklearn"
      ],
      "execution_count": 1,
      "outputs": []
    },
    {
      "cell_type": "code",
      "metadata": {
        "id": "AH93rTUKbdLn"
      },
      "source": [
        "%tensorflow_version 2.x"
      ],
      "execution_count": 2,
      "outputs": []
    },
    {
      "cell_type": "code",
      "metadata": {
        "id": "XEg6Pd7Mbf4h"
      },
      "source": [
        "from __future__ import absolute_import, division, print_function, unicode_literals\n",
        "import numpy as np\n",
        "import pandas as pd\n",
        "import matplotlib.pyplot as plt\n",
        "from IPython.display import clear_output\n",
        "from six.moves import urllib\n",
        "import tensorflow.compat.v2.feature_column as fc\n",
        "import tensorflow as tf"
      ],
      "execution_count": 3,
      "outputs": []
    },
    {
      "cell_type": "markdown",
      "metadata": {
        "id": "hna9IcWobpeY"
      },
      "source": [
        "## Data"
      ]
    },
    {
      "cell_type": "code",
      "metadata": {
        "id": "BitYsJZLblE1"
      },
      "source": [
        "dftrain = pd.read_csv('https://storage.googleapis.com/tf-datasets/titanic/train.csv') # training data\n",
        "dfeval = pd.read_csv('https://storage.googleapis.com/tf-datasets/titanic/eval.csv') # testing data\n",
        "y_train = dftrain.pop('survived')\n",
        "y_eval = dfeval.pop('survived')"
      ],
      "execution_count": 4,
      "outputs": []
    },
    {
      "cell_type": "code",
      "metadata": {
        "id": "mK5eWBm4bssn",
        "outputId": "6450d450-fe25-4f10-c1da-26d24b26efa4",
        "colab": {
          "base_uri": "https://localhost:8080/"
        }
      },
      "source": [
        "CATEGORICAL_COLUMNS = ['sex', 'n_siblings_spouses', 'parch', 'class', 'deck','embark_town', 'alone']\n",
        "NUMERIC_COLUMNS = ['age', 'fare']\n",
        "\n",
        "feature_columns = []\n",
        "for feature_name in CATEGORICAL_COLUMNS:\n",
        "  vocabulary = dftrain[feature_name].unique()  # gets a list of all unique values from given feature column\n",
        "  feature_columns.append(tf.feature_column.categorical_column_with_vocabulary_list(feature_name, vocabulary))\n",
        "\n",
        "for feature_name in NUMERIC_COLUMNS:\n",
        "  feature_columns.append(tf.feature_column.numeric_column(feature_name, dtype=tf.float32))\n",
        "\n",
        "print(feature_columns)"
      ],
      "execution_count": 5,
      "outputs": [
        {
          "output_type": "stream",
          "text": [
            "[VocabularyListCategoricalColumn(key='sex', vocabulary_list=('male', 'female'), dtype=tf.string, default_value=-1, num_oov_buckets=0), VocabularyListCategoricalColumn(key='n_siblings_spouses', vocabulary_list=(1, 0, 3, 4, 2, 5, 8), dtype=tf.int64, default_value=-1, num_oov_buckets=0), VocabularyListCategoricalColumn(key='parch', vocabulary_list=(0, 1, 2, 5, 3, 4), dtype=tf.int64, default_value=-1, num_oov_buckets=0), VocabularyListCategoricalColumn(key='class', vocabulary_list=('Third', 'First', 'Second'), dtype=tf.string, default_value=-1, num_oov_buckets=0), VocabularyListCategoricalColumn(key='deck', vocabulary_list=('unknown', 'C', 'G', 'A', 'B', 'D', 'F', 'E'), dtype=tf.string, default_value=-1, num_oov_buckets=0), VocabularyListCategoricalColumn(key='embark_town', vocabulary_list=('Southampton', 'Cherbourg', 'Queenstown', 'unknown'), dtype=tf.string, default_value=-1, num_oov_buckets=0), VocabularyListCategoricalColumn(key='alone', vocabulary_list=('n', 'y'), dtype=tf.string, default_value=-1, num_oov_buckets=0), NumericColumn(key='age', shape=(1,), default_value=None, dtype=tf.float32, normalizer_fn=None), NumericColumn(key='fare', shape=(1,), default_value=None, dtype=tf.float32, normalizer_fn=None)]\n"
          ],
          "name": "stdout"
        }
      ]
    },
    {
      "cell_type": "markdown",
      "metadata": {
        "id": "NzFLq5h7cCjE"
      },
      "source": [
        "## Input function"
      ]
    },
    {
      "cell_type": "code",
      "metadata": {
        "id": "zoTBSzaAb8AP"
      },
      "source": [
        "def make_input_fn(data_df, label_df, num_epochs=10, shuffle=True, batch_size=32):\n",
        "  def input_function():  # inner function, this will be returned\n",
        "    ds = tf.data.Dataset.from_tensor_slices((dict(data_df), label_df))  # create tf.data.Dataset object with data and its label\n",
        "    if shuffle:\n",
        "      ds = ds.shuffle(1000)  # randomize order of data\n",
        "    ds = ds.batch(batch_size).repeat(num_epochs)  # split dataset into batches of 32 and repeat process for number of epochs\n",
        "    return ds  # return a batch of the dataset\n",
        "  return input_function  # return a function object for use\n",
        "\n",
        "train_input_fn = make_input_fn(dftrain, y_train)  # here we will call the input_function that was returned to us to get a dataset object we can feed to the model\n",
        "eval_input_fn = make_input_fn(dfeval, y_eval, num_epochs=1, shuffle=False)"
      ],
      "execution_count": 6,
      "outputs": []
    },
    {
      "cell_type": "markdown",
      "metadata": {
        "id": "sYCxhGoMcHwb"
      },
      "source": [
        "## Model Creation"
      ]
    },
    {
      "cell_type": "code",
      "metadata": {
        "id": "20hhZCrYcEef",
        "outputId": "8d956414-3098-422c-cc74-f5d020fc1488",
        "colab": {
          "base_uri": "https://localhost:8080/"
        }
      },
      "source": [
        "linear_est = tf.estimator.LinearClassifier(feature_columns=feature_columns)"
      ],
      "execution_count": 7,
      "outputs": [
        {
          "output_type": "stream",
          "text": [
            "INFO:tensorflow:Using default config.\n",
            "WARNING:tensorflow:Using temporary folder as model directory: /tmp/tmp3etk5ho_\n",
            "INFO:tensorflow:Using config: {'_model_dir': '/tmp/tmp3etk5ho_', '_tf_random_seed': None, '_save_summary_steps': 100, '_save_checkpoints_steps': None, '_save_checkpoints_secs': 600, '_session_config': allow_soft_placement: true\n",
            "graph_options {\n",
            "  rewrite_options {\n",
            "    meta_optimizer_iterations: ONE\n",
            "  }\n",
            "}\n",
            ", '_keep_checkpoint_max': 5, '_keep_checkpoint_every_n_hours': 10000, '_log_step_count_steps': 100, '_train_distribute': None, '_device_fn': None, '_protocol': None, '_eval_distribute': None, '_experimental_distribute': None, '_experimental_max_worker_delay_secs': None, '_session_creation_timeout_secs': 7200, '_checkpoint_save_graph_def': True, '_service': None, '_cluster_spec': ClusterSpec({}), '_task_type': 'worker', '_task_id': 0, '_global_id_in_cluster': 0, '_master': '', '_evaluation_master': '', '_is_chief': True, '_num_ps_replicas': 0, '_num_worker_replicas': 1}\n"
          ],
          "name": "stdout"
        }
      ]
    },
    {
      "cell_type": "markdown",
      "metadata": {
        "id": "_cZhRfjDcP2E"
      },
      "source": [
        "## Model Training"
      ]
    },
    {
      "cell_type": "code",
      "metadata": {
        "id": "Va5kWfECcLRq",
        "outputId": "df091c21-fad4-46cc-e62e-bb6c099acc20",
        "colab": {
          "base_uri": "https://localhost:8080/"
        }
      },
      "source": [
        "linear_est.train(train_input_fn)\n",
        "result = linear_est.evaluate(eval_input_fn)\n",
        "\n",
        "clear_output()\n",
        "print(result['accuracy'])"
      ],
      "execution_count": 8,
      "outputs": [
        {
          "output_type": "stream",
          "text": [
            "0.7462121\n"
          ],
          "name": "stdout"
        }
      ]
    },
    {
      "cell_type": "code",
      "metadata": {
        "id": "uaZjF8jjcZVI",
        "outputId": "2932a314-1f52-48c2-fd51-1045af60b3cb",
        "colab": {
          "base_uri": "https://localhost:8080/",
          "height": 452
        }
      },
      "source": [
        "pred_dicts = list(linear_est.predict(eval_input_fn))\n",
        "probs = pd.Series([pred['probabilities'][1] for pred in pred_dicts])\n",
        "\n",
        "probs.plot(kind='hist', bins=20, title='predicted probabilities')"
      ],
      "execution_count": 9,
      "outputs": [
        {
          "output_type": "stream",
          "text": [
            "INFO:tensorflow:Calling model_fn.\n"
          ],
          "name": "stdout"
        },
        {
          "output_type": "stream",
          "text": [
            "/usr/local/lib/python3.7/dist-packages/tensorflow/python/keras/engine/base_layer_v1.py:1700: UserWarning: `layer.add_variable` is deprecated and will be removed in a future version. Please use `layer.add_weight` method instead.\n",
            "  warnings.warn('`layer.add_variable` is deprecated and '\n"
          ],
          "name": "stderr"
        },
        {
          "output_type": "stream",
          "text": [
            "INFO:tensorflow:Done calling model_fn.\n",
            "INFO:tensorflow:Graph was finalized.\n",
            "INFO:tensorflow:Restoring parameters from /tmp/tmp3etk5ho_/model.ckpt-200\n",
            "INFO:tensorflow:Running local_init_op.\n",
            "INFO:tensorflow:Done running local_init_op.\n"
          ],
          "name": "stdout"
        },
        {
          "output_type": "execute_result",
          "data": {
            "text/plain": [
              "<matplotlib.axes._subplots.AxesSubplot at 0x7f224c0ccfd0>"
            ]
          },
          "metadata": {
            "tags": []
          },
          "execution_count": 9
        },
        {
          "output_type": "display_data",
          "data": {
            "image/png": "[encoded data removed]",
            "text/plain": [
              "<Figure size 432x288 with 1 Axes>"
            ]
          },
          "metadata": {
            "tags": [],
            "needs_background": "light"
          }
        }
      ]
    }
  ]
}